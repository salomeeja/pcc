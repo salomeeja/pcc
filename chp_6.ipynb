{
  "nbformat": 4,
  "nbformat_minor": 0,
  "metadata": {
    "colab": {
      "name": "chp_6.ipynb",
      "provenance": [],
      "authorship_tag": "ABX9TyMfPyKnwzNBahz0ZJjP1B6W",
      "include_colab_link": true
    },
    "kernelspec": {
      "name": "python3",
      "display_name": "Python 3"
    },
    "language_info": {
      "name": "python"
    }
  },
  "cells": [
    {
      "cell_type": "markdown",
      "metadata": {
        "id": "view-in-github",
        "colab_type": "text"
      },
      "source": [
        "<a href=\"https://colab.research.google.com/github/salomeeja/salomeeja/blob/main/chp_6.ipynb\" target=\"_parent\"><img src=\"https://colab.research.google.com/assets/colab-badge.svg\" alt=\"Open In Colab\"/></a>"
      ]
    },
    {
      "cell_type": "markdown",
      "metadata": {
        "id": "2oRPEXC95O39"
      },
      "source": [
        "person.py"
      ]
    },
    {
      "cell_type": "code",
      "metadata": {
        "colab": {
          "base_uri": "https://localhost:8080/"
        },
        "id": "26NeyA5i5Koz",
        "outputId": "24e414f5-a1cb-4706-983c-5e7cfd0e98b8"
      },
      "source": [
        "person = {\n",
        "    'first_name': 'Ashley',\n",
        "    'last_name': 'Frangipanni',\n",
        "    'age': 25,\n",
        "    'city': 'Edinbourg',\n",
        "}\n",
        "\n",
        "first_name = person['first_name']\n",
        "last_name = person['last_name']\n",
        "age = person['age']\n",
        "city = person['city']\n",
        "\n",
        "print(first_name)\n",
        "print(last_name)\n",
        "print(age)\n",
        "print(city)"
      ],
      "execution_count": 1,
      "outputs": [
        {
          "output_type": "stream",
          "name": "stdout",
          "text": [
            "Ashley\n",
            "Frangipanni\n",
            "25\n",
            "Edinbourg\n"
          ]
        }
      ]
    },
    {
      "cell_type": "markdown",
      "metadata": {
        "id": "qqVeg-9s5c26"
      },
      "source": [
        "favorite_numbers.py"
      ]
    },
    {
      "cell_type": "code",
      "metadata": {
        "colab": {
          "base_uri": "https://localhost:8080/"
        },
        "id": "VdY0kJ0E5hZl",
        "outputId": "217a536c-547d-4c0d-9252-ce815c6286e3"
      },
      "source": [
        "favorite_numbers = {\n",
        "    'Jack': 1,\n",
        "    'Josephine': 5,\n",
        "    'Shrek': 8,\n",
        "    'Erika': 3,\n",
        "    'Dominik': 7,\n",
        "}\n",
        "\n",
        "for names in favorite_numbers.keys():\n",
        "    print(names)\n",
        "\n",
        "for numbers in favorite_numbers.values():\n",
        "    print(numbers)"
      ],
      "execution_count": 2,
      "outputs": [
        {
          "output_type": "stream",
          "name": "stdout",
          "text": [
            "Jack\n",
            "Josephine\n",
            "Shrek\n",
            "Erika\n",
            "Dominik\n",
            "1\n",
            "5\n",
            "8\n",
            "3\n",
            "7\n"
          ]
        }
      ]
    },
    {
      "cell_type": "markdown",
      "metadata": {
        "id": "EjD2ksvl5laj"
      },
      "source": [
        "glossary.py"
      ]
    },
    {
      "cell_type": "code",
      "metadata": {
        "colab": {
          "base_uri": "https://localhost:8080/"
        },
        "id": "aIwuuwyZ5n8p",
        "outputId": "5d9efe58-6b3e-4c6f-a409-fa204f3cf122"
      },
      "source": [
        "glossary = {\n",
        "    'python': 'the coding programe',\n",
        "    'dir': 'aka folder',\n",
        "    'rm': 'remove something', \n",
        "    'computer': 'the machine we work with',\n",
        "    'pcc': 'the name of the book',\n",
        "}\n",
        "\n",
        "for words, meanings in glossary.items():\n",
        "    print(words + ': ' + meanings)"
      ],
      "execution_count": 3,
      "outputs": [
        {
          "output_type": "stream",
          "name": "stdout",
          "text": [
            "python: the coding programe\n",
            "dir: aka folder\n",
            "rm: remove something\n",
            "computer: the machine we work with\n",
            "pcc: the name of the book\n"
          ]
        }
      ]
    },
    {
      "cell_type": "markdown",
      "metadata": {
        "id": "1Sj9_Fc05rCZ"
      },
      "source": [
        "rivers.py"
      ]
    },
    {
      "cell_type": "code",
      "metadata": {
        "colab": {
          "base_uri": "https://localhost:8080/"
        },
        "id": "XjDzbukD5tzv",
        "outputId": "6e57eb35-b0c6-4c2e-b3b5-c65d15ded474"
      },
      "source": [
        "rivers = {\n",
        "    'Nile': 'Egypt',\n",
        "    'Amazon': 'America',\n",
        "    'Volga': 'Russia',\n",
        "}\n",
        "\n",
        "for river, country in rivers.items():\n",
        "  print('The ' + river + ' runs throught ' + country)\n",
        "  print(river)\n",
        "  print(country)\n"
      ],
      "execution_count": 16,
      "outputs": [
        {
          "output_type": "stream",
          "name": "stdout",
          "text": [
            "The Nile runs throught Egypt\n",
            "Nile\n",
            "Egypt\n",
            "The Amazon runs throught America\n",
            "Amazon\n",
            "America\n",
            "The Volga runs throught Russia\n",
            "Volga\n",
            "Russia\n"
          ]
        }
      ]
    },
    {
      "cell_type": "markdown",
      "metadata": {
        "id": "U4myfEbk_27D"
      },
      "source": [
        "polling.py"
      ]
    },
    {
      "cell_type": "code",
      "metadata": {
        "colab": {
          "base_uri": "https://localhost:8080/"
        },
        "id": "rk4NlVPhAdPz",
        "outputId": "79aaa28d-d3a4-45e7-dfd6-91be0f2ae4ea"
      },
      "source": [
        "favorite_languages = {\n",
        "    'jen': 'python',\n",
        "    'sarah': 'c',\n",
        "    'edward': 'ruby',\n",
        "    'phil': 'python',\n",
        "}\n",
        "\n",
        "for name in favorite_languages.keys():\n",
        "  print(name.title())\n",
        "\n",
        "new_people = {\n",
        "    'jack': 'java',\n",
        "    'jen': 'python',\n",
        "    'mike': 'c',\n",
        "    'mary': 'python',\n",
        "    'edward': 'ruby'\n",
        "}\n",
        "\n",
        "for name in favorite_languages.keys():\n",
        "  print(name.title() + ', thank you for taking the poll.' )\n",
        "\n",
        "for new_person in new_people:\n",
        "    if new_person in favorite_languages:\n",
        "        print(new_person + ', thank you for responding.')\n",
        "    else:\n",
        "        print(new_person + ', we invite you to take poll.')"
      ],
      "execution_count": 22,
      "outputs": [
        {
          "output_type": "stream",
          "name": "stdout",
          "text": [
            "Jen\n",
            "Sarah\n",
            "Edward\n",
            "Phil\n",
            "Jen, thank you for taking the poll.\n",
            "Sarah, thank you for taking the poll.\n",
            "Edward, thank you for taking the poll.\n",
            "Phil, thank you for taking the poll.\n",
            "jack, we invite you to take poll.\n",
            "jen, thank you for responding.\n",
            "mike, we invite you to take poll.\n",
            "mary, we invite you to take poll.\n",
            "edward, thank you for responding.\n"
          ]
        }
      ]
    },
    {
      "cell_type": "markdown",
      "metadata": {
        "id": "exYlmj2QIn0A"
      },
      "source": [
        "Pets.py"
      ]
    },
    {
      "cell_type": "code",
      "metadata": {
        "colab": {
          "base_uri": "https://localhost:8080/"
        },
        "id": "p0De4f1hIp_P",
        "outputId": "ee6e8087-c60d-4b6f-8c4e-10c8c54327bd"
      },
      "source": [
        "pets = {\n",
        "    'joselyn': {\n",
        "        'animal': 'cat',\n",
        "        'owner': 'stacy',\n",
        "    },\n",
        "    'bob': {\n",
        "        'animal': \"dog\",\n",
        "        'owner': 'ted'\n",
        "    },\n",
        "}\n",
        "\n",
        "print(pets)\n"
      ],
      "execution_count": 6,
      "outputs": [
        {
          "output_type": "stream",
          "name": "stdout",
          "text": [
            "{'joselyn': {'animal': 'cat', 'owner': 'stacy'}, 'bob': {'animal': 'dog', 'owner': 'ted'}}\n"
          ]
        }
      ]
    },
    {
      "cell_type": "markdown",
      "metadata": {
        "id": "OnK93ueMlUpP"
      },
      "source": [
        "Favorite_places.py\n"
      ]
    },
    {
      "cell_type": "code",
      "metadata": {
        "colab": {
          "base_uri": "https://localhost:8080/"
        },
        "id": "P_dtoxN6lYGr",
        "outputId": "fb840c3e-af27-4421-e2d7-b75489516ea7"
      },
      "source": [
        "favorite_places = {\n",
        "    'fiona': ['far far away', 'swamp'],\n",
        "    'shrek': ['swamp', 'woods', 'with Fiona'],\n",
        "    'donkey': ['with shrek'],\n",
        "}\n",
        "for name, places in favorite_places.items():\n",
        "  print(name + ': ')\n",
        "  for place in places:\n",
        "    print('- ' + place)"
      ],
      "execution_count": 8,
      "outputs": [
        {
          "output_type": "stream",
          "name": "stdout",
          "text": [
            "fiona: \n",
            "- far far away\n",
            "- swamp\n",
            "shrek: \n",
            "- swamp\n",
            "- woods\n",
            "- with Fiona\n",
            "donkey: \n",
            "- with shrek\n"
          ]
        }
      ]
    },
    {
      "cell_type": "markdown",
      "metadata": {
        "id": "54xLzJ3im2vn"
      },
      "source": [
        "cities.py\n"
      ]
    },
    {
      "cell_type": "code",
      "metadata": {
        "colab": {
          "base_uri": "https://localhost:8080/"
        },
        "id": "gMqkGoiFnCuH",
        "outputId": "1e4b93bf-46d8-4e7c-a05b-fd6b4f594952"
      },
      "source": [
        "cities = {\n",
        "    'New-York': {\n",
        "        'country': 'The United States',\n",
        "        'population': '8 million',\n",
        "        'fact': 'the facts about empire states building blah blah blah',\n",
        "    },\n",
        "    'Tbilisi': {\n",
        "        'country': 'Georgia',\n",
        "        'population': '1,5 million',\n",
        "        'fact': 'it has cool history',\n",
        "    },\n",
        "    'Moscow': {\n",
        "        'country': 'Russia',\n",
        "        'population': '12,7 million',\n",
        "        'fact': 'they speak russian',\n",
        "    },\n",
        "}\n",
        "\n",
        "print(cities)"
      ],
      "execution_count": 18,
      "outputs": [
        {
          "output_type": "stream",
          "name": "stdout",
          "text": [
            "{'New-York': {'country': 'The United States', 'population': '8 million', 'fact': 'the facts about empire states building blah blah blah'}, 'Tbilisi': {'country': 'Georgia', 'population': '1,5 million', 'fact': 'it has cool history'}, 'Moscow': {'country': 'Russia', 'population': '12,7 million', 'fact': 'they speak russian'}}\n"
          ]
        }
      ]
    }
  ]
}