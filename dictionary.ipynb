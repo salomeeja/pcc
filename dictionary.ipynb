{
  "nbformat": 4,
  "nbformat_minor": 0,
  "metadata": {
    "colab": {
      "name": "dictionary.ipynb",
      "provenance": [],
      "authorship_tag": "ABX9TyMl1i5B/CJTMFAbq8mtzImu",
      "include_colab_link": true
    },
    "kernelspec": {
      "name": "python3",
      "display_name": "Python 3"
    },
    "language_info": {
      "name": "python"
    }
  },
  "cells": [
    {
      "cell_type": "markdown",
      "metadata": {
        "id": "view-in-github",
        "colab_type": "text"
      },
      "source": [
        "<a href=\"https://colab.research.google.com/github/salomeeja/salomeeja/blob/main/dictionary.ipynb\" target=\"_parent\"><img src=\"https://colab.research.google.com/assets/colab-badge.svg\" alt=\"Open In Colab\"/></a>"
      ]
    },
    {
      "cell_type": "code",
      "metadata": {
        "id": "ATQ8P_quxqu4"
      },
      "source": [
        "alien_0 = {'color': 'green', 'points': 5}\n",
        "#with distionaries we can mix few codes in this one\n"
      ],
      "execution_count": 8,
      "outputs": []
    },
    {
      "cell_type": "code",
      "metadata": {
        "colab": {
          "base_uri": "https://localhost:8080/"
        },
        "id": "9M4mffIu15l5",
        "outputId": "cc369a19-c468-409d-de33-df32bb5c9ac7"
      },
      "source": [
        "alien_0"
      ],
      "execution_count": 9,
      "outputs": [
        {
          "output_type": "execute_result",
          "data": {
            "text/plain": [
              "{'color': 'green', 'points': 5}"
            ]
          },
          "metadata": {},
          "execution_count": 9
        }
      ]
    },
    {
      "cell_type": "code",
      "metadata": {
        "colab": {
          "base_uri": "https://localhost:8080/"
        },
        "id": "8m3JOwg71_Bq",
        "outputId": "b8bb83f8-7dcf-4286-9f45-248c886d4d1b"
      },
      "source": [
        "alien_0 = {'color': 'green', 'points': 5}\n",
        "type(alien_0)"
      ],
      "execution_count": 11,
      "outputs": [
        {
          "output_type": "execute_result",
          "data": {
            "text/plain": [
              "dict"
            ]
          },
          "metadata": {},
          "execution_count": 11
        }
      ]
    },
    {
      "cell_type": "code",
      "metadata": {
        "colab": {
          "base_uri": "https://localhost:8080/"
        },
        "id": "wn63xLaV2Jj6",
        "outputId": "82ef7c89-2df3-43cc-e217-df0552856a0c"
      },
      "source": [
        "print(alien_0['color'])"
      ],
      "execution_count": 12,
      "outputs": [
        {
          "output_type": "stream",
          "name": "stdout",
          "text": [
            "green\n"
          ]
        }
      ]
    },
    {
      "cell_type": "code",
      "metadata": {
        "colab": {
          "base_uri": "https://localhost:8080/"
        },
        "id": "L73s2XCL2Zkv",
        "outputId": "f03bbdeb-6a23-4091-9553-e099b0b179e3"
      },
      "source": [
        "print(alien_0['points'])\n"
      ],
      "execution_count": 13,
      "outputs": [
        {
          "output_type": "stream",
          "name": "stdout",
          "text": [
            "5\n"
          ]
        }
      ]
    },
    {
      "cell_type": "code",
      "metadata": {
        "colab": {
          "base_uri": "https://localhost:8080/"
        },
        "id": "Vy41O_he2lo3",
        "outputId": "ab1e74cf-0bf5-4684-9d39-df1897b49fe2"
      },
      "source": [
        "alien_0 = {'color': 'green'}\n",
        "alien_color = alien_0.get('color')\n",
        "alien_color\n",
        "alien_points = alien_0.get('points', 10)\n",
        "alien_points\n",
        "alien_0"
      ],
      "execution_count": 19,
      "outputs": [
        {
          "output_type": "execute_result",
          "data": {
            "text/plain": [
              "{'color': 'green'}"
            ]
          },
          "metadata": {},
          "execution_count": 19
        }
      ]
    },
    {
      "cell_type": "code",
      "metadata": {
        "colab": {
          "base_uri": "https://localhost:8080/"
        },
        "id": "xLO1eZ3j3QGI",
        "outputId": "ecc3c217-e78e-4ac1-8a87-a4907444df79"
      },
      "source": [
        "alien_0 = {'color': 'green', 'ponts': 5}\n",
        "print(alien_0)\n",
        "\n",
        "alien_0['x'] = 0\n",
        "alien_0['y'] = 25\n",
        "print(alien_0)"
      ],
      "execution_count": 21,
      "outputs": [
        {
          "output_type": "stream",
          "name": "stdout",
          "text": [
            "{'color': 'green', 'ponts': 5}\n",
            "{'color': 'green', 'ponts': 5, 'x': 0, 'y': 25}\n"
          ]
        }
      ]
    },
    {
      "cell_type": "code",
      "metadata": {
        "colab": {
          "base_uri": "https://localhost:8080/"
        },
        "id": "XZ5IasIb3vUd",
        "outputId": "3fab4d88-1775-4dec-a5e6-01dc9736b572"
      },
      "source": [
        "alien_0 = {}\n",
        "alien_0['color'] = 'green'\n",
        "alien_0['points'] = 5\n",
        "alien_0"
      ],
      "execution_count": 28,
      "outputs": [
        {
          "output_type": "execute_result",
          "data": {
            "text/plain": [
              "{'color': 'green', 'points': 5}"
            ]
          },
          "metadata": {},
          "execution_count": 28
        }
      ]
    },
    {
      "cell_type": "code",
      "metadata": {
        "colab": {
          "base_uri": "https://localhost:8080/"
        },
        "id": "ooLFdg9l6sF1",
        "outputId": "b02941ca-737d-48d8-87fb-38d21bc01df4"
      },
      "source": [
        "alien_0 = {'color': 'green', 'ponts': 5}\n",
        "print(alien_0)\n",
        "\n",
        "alien_0['color'] = 'yellow'\n",
        "alien_0['points'] = 10\n",
        "print(alien_0)"
      ],
      "execution_count": 30,
      "outputs": [
        {
          "output_type": "stream",
          "name": "stdout",
          "text": [
            "{'color': 'green', 'ponts': 5}\n",
            "{'color': 'yellow', 'ponts': 5, 'points': 10}\n"
          ]
        }
      ]
    },
    {
      "cell_type": "code",
      "metadata": {
        "colab": {
          "base_uri": "https://localhost:8080/"
        },
        "id": "ow3p8fwi69Go",
        "outputId": "bdfa02ca-d64a-4968-812a-6a6b2c0a210b"
      },
      "source": [
        "alien_0 = {'color': 'green', 'points': 5}\n",
        "print(alien_0)\n",
        "\n",
        "del alien_0['points']\n",
        "print(alien_0)"
      ],
      "execution_count": 34,
      "outputs": [
        {
          "output_type": "stream",
          "name": "stdout",
          "text": [
            "{'color': 'green', 'points': 5}\n",
            "{'color': 'green'}\n"
          ]
        }
      ]
    },
    {
      "cell_type": "code",
      "metadata": {
        "colab": {
          "base_uri": "https://localhost:8080/"
        },
        "id": "mN8wLKX27b4x",
        "outputId": "4755061f-cefd-438a-a5de-1e82c2348577"
      },
      "source": [
        "names = ['alice', 'bob', 'david']\n",
        "for name in names:\n",
        "  print(name)"
      ],
      "execution_count": 36,
      "outputs": [
        {
          "output_type": "stream",
          "name": "stdout",
          "text": [
            "alice\n",
            "bob\n",
            "david\n"
          ]
        }
      ]
    },
    {
      "cell_type": "code",
      "metadata": {
        "colab": {
          "base_uri": "https://localhost:8080/"
        },
        "id": "V2RGK8jp7pEO",
        "outputId": "803fc47d-2002-4bec-e833-1663d9854bfe"
      },
      "source": [
        "fav_languages = {\n",
        "    'jen': 'python', \n",
        "    'sarah': 'c',\n",
        "    'edward': 'ruby',\n",
        "    'phil': 'python',\n",
        "}\n",
        "print(fav_languages)\n",
        "for name, languages in fav_languages.items():\n",
        "  print(name + ': ' + languages)\n",
        "\n"
      ],
      "execution_count": 46,
      "outputs": [
        {
          "output_type": "stream",
          "name": "stdout",
          "text": [
            "{'jen': 'python', 'sarah': 'c', 'edward': 'ruby', 'phil': 'python'}\n",
            "jen: python\n",
            "sarah: c\n",
            "edward: ruby\n",
            "phil: python\n"
          ]
        }
      ]
    },
    {
      "cell_type": "code",
      "metadata": {
        "colab": {
          "base_uri": "https://localhost:8080/"
        },
        "id": "Jsg3rHhg--ot",
        "outputId": "8611e223-d1fb-4c78-81f5-c88778c2e472"
      },
      "source": [
        "fav_languages = {\n",
        "    'jen': 'python', \n",
        "    'sarah': 'c',\n",
        "    'edward': 'ruby',\n",
        "    'phil': 'python',\n",
        "}\n",
        "\n",
        "for name in fav_languages.keys():\n",
        "  print(name)"
      ],
      "execution_count": 48,
      "outputs": [
        {
          "output_type": "stream",
          "name": "stdout",
          "text": [
            "jen\n",
            "sarah\n",
            "edward\n",
            "phil\n"
          ]
        }
      ]
    },
    {
      "cell_type": "code",
      "metadata": {
        "colab": {
          "base_uri": "https://localhost:8080/"
        },
        "id": "PlhqmnHw--zj",
        "outputId": "7be117ac-2ceb-4fdb-b27f-e3367cac28a3"
      },
      "source": [
        "fav_languages = {\n",
        "    'jen': 'python', \n",
        "    'sarah': 'c',\n",
        "    'edward': 'ruby',\n",
        "    'phil': 'python',\n",
        "}\n",
        "\n",
        "for language in fav_languages.values():\n",
        "  print(language)"
      ],
      "execution_count": 47,
      "outputs": [
        {
          "output_type": "stream",
          "name": "stdout",
          "text": [
            "python\n",
            "c\n",
            "ruby\n",
            "python\n"
          ]
        }
      ]
    },
    {
      "cell_type": "code",
      "metadata": {
        "id": "XWOuOgIb_Qdq"
      },
      "source": [
        "fav_languages = {\n",
        "    'jen': 'python', \n",
        "    'sarah': 'c',\n",
        "    'edward': 'ruby',\n",
        "    'phil': 'python',\n",
        "}\n",
        "\n",
        "for language in fav_languages.values():\n",
        "  print(language)"
      ],
      "execution_count": null,
      "outputs": []
    },
    {
      "cell_type": "code",
      "metadata": {
        "colab": {
          "base_uri": "https://localhost:8080/"
        },
        "id": "4gRfXzYn_pCa",
        "outputId": "e6b9ade8-d957-4def-e36b-95a3a629d40e"
      },
      "source": [
        "users = []\n",
        "\n",
        "new_user = {\n",
        "    'last_name': 'fermi',\n",
        "    'first_name': 'enrico',\n",
        "    'username': 'efermi',\n",
        "}\n",
        "users.append(new_user)\n",
        "print(users)\n",
        "\n",
        "new_user = {\n",
        "    'last_name': 'cure',\n",
        "    'first_name': \"marie\",\n",
        "    'username': 'mcurie',\n",
        "}\n",
        "\n",
        "users.append(new_user)\n",
        "print(users)\n",
        "\n",
        "for user_dict in users:\n",
        "  for k, v in user_dict.items():\n",
        "    print(k + ': ' + v)\n",
        "  print('\\n')"
      ],
      "execution_count": 52,
      "outputs": [
        {
          "output_type": "stream",
          "name": "stdout",
          "text": [
            "[{'last_name': 'fermi', 'first_name': 'enrico', 'username': 'efermi'}]\n",
            "[{'last_name': 'fermi', 'first_name': 'enrico', 'username': 'efermi'}, {'last_name': 'cure', 'first_name': 'marie', 'username': 'mcurie'}]\n",
            "last_name: fermi\n",
            "first_name: enrico\n",
            "username: efermi\n",
            "\n",
            "\n",
            "last_name: cure\n",
            "first_name: marie\n",
            "username: mcurie\n",
            "\n",
            "\n"
          ]
        }
      ]
    },
    {
      "cell_type": "code",
      "metadata": {
        "colab": {
          "base_uri": "https://localhost:8080/"
        },
        "id": "UN5woQvq_ozo",
        "outputId": "d88fcd54-98b8-415d-df20-57a7a3bc8367"
      },
      "source": [
        "fav_languages = {\n",
        "    'jen': ['python', 'ruby'],\n",
        "    'sarah': ['c'],\n",
        "    'edward': ['ruby', 'go'],\n",
        "    'phil': ['python', 'haskell'],\n",
        "}\n",
        "for name, langs in fav_languages.items():\n",
        "  print(name + ': ')\n",
        "  for lang in langs:\n",
        "    print('- ' + lang)"
      ],
      "execution_count": 55,
      "outputs": [
        {
          "output_type": "stream",
          "name": "stdout",
          "text": [
            "jen: \n",
            "- python\n",
            "- ruby\n",
            "sarah: \n",
            "- c\n",
            "edward: \n",
            "- ruby\n",
            "- go\n",
            "phil: \n",
            "- python\n",
            "- haskell\n"
          ]
        }
      ]
    },
    {
      "cell_type": "code",
      "metadata": {
        "id": "gWd32cSy_oi4"
      },
      "source": [
        ""
      ],
      "execution_count": null,
      "outputs": []
    }
  ]
}