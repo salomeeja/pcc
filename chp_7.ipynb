{
  "nbformat": 4,
  "nbformat_minor": 0,
  "metadata": {
    "colab": {
      "name": "chp_7.ipynb",
      "provenance": [],
      "authorship_tag": "ABX9TyMIBAZRosvbQXUn2hScKuPe",
      "include_colab_link": true
    },
    "kernelspec": {
      "name": "python3",
      "display_name": "Python 3"
    },
    "language_info": {
      "name": "python"
    }
  },
  "cells": [
    {
      "cell_type": "markdown",
      "metadata": {
        "id": "view-in-github",
        "colab_type": "text"
      },
      "source": [
        "<a href=\"https://colab.research.google.com/github/salomeeja/salomeeja/blob/main/chp_7.ipynb\" target=\"_parent\"><img src=\"https://colab.research.google.com/assets/colab-badge.svg\" alt=\"Open In Colab\"/></a>"
      ]
    },
    {
      "cell_type": "markdown",
      "metadata": {
        "id": "va9vt_D6Xq3Q"
      },
      "source": [
        "Rental Car"
      ]
    },
    {
      "cell_type": "code",
      "metadata": {
        "colab": {
          "base_uri": "https://localhost:8080/"
        },
        "id": "U0oV_F49XnhS",
        "outputId": "a11c1f75-af94-4e1c-a98b-0fc20a7b746d"
      },
      "source": [
        "cars = input('What kind of rental car you would like? ')\n",
        "\n",
        "print('Let me find you a ' + cars )"
      ],
      "execution_count": null,
      "outputs": [
        {
          "output_type": "stream",
          "name": "stdout",
          "text": [
            "What kind of rental car you would like? Subaru\n",
            "Let me find you a Subaru\n"
          ]
        }
      ]
    },
    {
      "cell_type": "markdown",
      "metadata": {
        "id": "6wKJ8MUbbzos"
      },
      "source": [
        "Restaurant Seating"
      ]
    },
    {
      "cell_type": "code",
      "metadata": {
        "colab": {
          "base_uri": "https://localhost:8080/"
        },
        "id": "8hiHFFD0b17A",
        "outputId": "723b4915-1955-4e15-f20e-d987c0609a72"
      },
      "source": [
        "seatings = input('How many people are in your dinner group? ')\n",
        "seatings = int(seatings)\n",
        "if seatings >= 8:\n",
        "  print('You will have to wait for a table ')\n",
        "else:\n",
        "  print('Take your seats. ')"
      ],
      "execution_count": null,
      "outputs": [
        {
          "output_type": "stream",
          "name": "stdout",
          "text": [
            "How many people are in your dinner group? 5\n",
            "Take your seats. \n"
          ]
        }
      ]
    },
    {
      "cell_type": "markdown",
      "metadata": {
        "id": "-YwyWpgmcdnr"
      },
      "source": [
        "Multiples of Ten\n"
      ]
    },
    {
      "cell_type": "code",
      "metadata": {
        "colab": {
          "base_uri": "https://localhost:8080/"
        },
        "id": "z7o2TGAbcggS",
        "outputId": "3c720c29-ecc2-4d56-93dd-36f34f3765b5"
      },
      "source": [
        "number = input('Enter a number, and I will tell you if it is multiple of 10 or not')\n",
        "\n",
        "number = int(number)\n",
        "\n",
        "if number % 10 == 0:\n",
        "  print('the number ' + str(number) + 'is multiple of 10. ')\n",
        "else:\n",
        "  print('the number ' + str(number) + 'is not multiple of 10. ')"
      ],
      "execution_count": null,
      "outputs": [
        {
          "output_type": "stream",
          "name": "stdout",
          "text": [
            "Enter a number, and I will tell you if it is multiple of 10 or not20\n",
            "the number 20is multiple of 10. \n"
          ]
        }
      ]
    },
    {
      "cell_type": "markdown",
      "metadata": {
        "id": "cWYyd8P5eMPX"
      },
      "source": [
        "Pizza Toppings:"
      ]
    },
    {
      "cell_type": "code",
      "metadata": {
        "colab": {
          "base_uri": "https://localhost:8080/"
        },
        "id": "VDiq22SueRVp",
        "outputId": "72f8e0fb-03f0-4358-fe55-2a53bce186cd"
      },
      "source": [
        "prompt = \"Please enter the name of the pizza topping you wanna. \"\n",
        "prompt += \"\\n Enter 'quit' when you are done. \"\n",
        "\n",
        "while True:\n",
        "  topping = input(prompt)\n",
        "  if topping == 'quit':\n",
        "    break\n",
        "  else:\n",
        "    print('I will add that topping to your pizza')\n"
      ],
      "execution_count": null,
      "outputs": [
        {
          "name": "stdout",
          "output_type": "stream",
          "text": [
            "Please enter the name of the pizza topping you wanna. \n",
            " Enter 'quit' when you are done. pepperoni\n",
            "I will add that topping to your pizza\n",
            "Please enter the name of the pizza topping you wanna. \n",
            " Enter 'quit' when you are done. cheese\n",
            "I will add that topping to your pizza\n",
            "Please enter the name of the pizza topping you wanna. \n",
            " Enter 'quit' when you are done. extra cheese\n",
            "I will add that topping to your pizza\n",
            "Please enter the name of the pizza topping you wanna. \n",
            " Enter 'quit' when you are done. pineapples\n",
            "I will add that topping to your pizza\n",
            "Please enter the name of the pizza topping you wanna. \n",
            " Enter 'quit' when you are done. onions\n",
            "I will add that topping to your pizza\n",
            "Please enter the name of the pizza topping you wanna. \n",
            " Enter 'quit' when you are done. quit\n"
          ]
        }
      ]
    },
    {
      "cell_type": "markdown",
      "metadata": {
        "id": "y-4_2EWlfCw9"
      },
      "source": [
        "Movie Tickets"
      ]
    },
    {
      "cell_type": "code",
      "metadata": {
        "colab": {
          "base_uri": "https://localhost:8080/"
        },
        "id": "UdvsrzqrfEY1",
        "outputId": "5f2639f1-5498-473c-fa8f-dc888f4aa90b"
      },
      "source": [
        "prompt = \"Please enter your age.  \"\n",
        "prompt += \"enter 'quit' when you are done\"\n",
        "\n",
        "while True: \n",
        "  age = input(prompt)\n",
        "  if age == 'quit':\n",
        "    break\n",
        "  age = int(age)\n",
        "  \n",
        "  if age < 3:\n",
        "        print(\"  You get in free!\")\n",
        "  elif age < 13:\n",
        "        print(\"  Your ticket is $10.\")\n",
        "  else:\n",
        "        print(\"  Your ticket is $15.\")"
      ],
      "execution_count": null,
      "outputs": [
        {
          "name": "stdout",
          "output_type": "stream",
          "text": [
            "Please enter your age.  enter 'quit' when you are done16\n",
            "  Your ticket is $15.\n",
            "Please enter your age.  enter 'quit' when you are done3\n",
            "  Your ticket is $10.\n",
            "Please enter your age.  enter 'quit' when you are done2\n",
            "  You get in free!\n",
            "Please enter your age.  enter 'quit' when you are donequit\n"
          ]
        }
      ]
    },
    {
      "cell_type": "markdown",
      "metadata": {
        "id": "3Ecseo6nhvlA"
      },
      "source": [
        "Deli"
      ]
    },
    {
      "cell_type": "code",
      "metadata": {
        "colab": {
          "base_uri": "https://localhost:8080/"
        },
        "id": "GHExFxiihxOc",
        "outputId": "bedc288b-5832-460f-a41f-5b2e026eb7bf"
      },
      "source": [
        "sandwich_orders = ['salmon', 'avocado', 'veggie']\n",
        "\n",
        "finished_sandwiches = []\n",
        "\n",
        "while sandwich_orders:\n",
        "    current_sandwich = sandwich_orders.pop()\n",
        "    print(f\"I'm working on your {current_sandwich} sandwich.\")\n",
        "    finished_sandwiches.append(current_sandwich)\n",
        "\n",
        "for sandwich in finished_sandwiches:\n",
        "    print(f\"I made a {sandwich} sandwich.\")"
      ],
      "execution_count": null,
      "outputs": [
        {
          "output_type": "stream",
          "name": "stdout",
          "text": [
            "I'm working on your veggie sandwich.\n",
            "I'm working on your avocado sandwich.\n",
            "I'm working on your salmon sandwich.\n",
            "I made a veggie sandwich.\n",
            "I made a avocado sandwich.\n",
            "I made a salmon sandwich.\n"
          ]
        }
      ]
    },
    {
      "cell_type": "markdown",
      "metadata": {
        "id": "pzliapkxit5z"
      },
      "source": [
        "No Pastrami"
      ]
    },
    {
      "cell_type": "code",
      "metadata": {
        "colab": {
          "base_uri": "https://localhost:8080/"
        },
        "id": "4ehivVe7jtC-",
        "outputId": "ccebcd4d-3bef-41f6-80da-92a6be659179"
      },
      "source": [
        "sandwich_orders = [\n",
        "    'pastrami', 'veggie', 'grilled cheese', 'pastrami',\n",
        "    'turkey', 'roast beef', 'pastrami']\n",
        "finished_sandwiches = []\n",
        "\n",
        "print(\"I'm sorry, we're all out of pastrami today.\")\n",
        "while 'pastrami' in sandwich_orders:\n",
        "    sandwich_orders.remove('pastrami')\n",
        "\n",
        "while sandwich_orders:\n",
        "    current_sandwich = sandwich_orders.pop()\n",
        "    print(f\"I'm working on your {current_sandwich} sandwich.\")\n",
        "    finished_sandwiches.append(current_sandwich)\n",
        "\n",
        "for sandwich in finished_sandwiches:\n",
        "    print(f\"I made a {sandwich} sandwich.\")"
      ],
      "execution_count": null,
      "outputs": [
        {
          "output_type": "stream",
          "name": "stdout",
          "text": [
            "I'm sorry, we're all out of pastrami today.\n",
            "I'm working on your roast beef sandwich.\n",
            "I'm working on your turkey sandwich.\n",
            "I'm working on your grilled cheese sandwich.\n",
            "I'm working on your veggie sandwich.\n",
            "I made a roast beef sandwich.\n",
            "I made a turkey sandwich.\n",
            "I made a grilled cheese sandwich.\n",
            "I made a veggie sandwich.\n"
          ]
        }
      ]
    },
    {
      "cell_type": "markdown",
      "metadata": {
        "id": "32nG3vvlkQhB"
      },
      "source": [
        "Dream Vacation"
      ]
    },
    {
      "cell_type": "code",
      "metadata": {
        "colab": {
          "base_uri": "https://localhost:8080/"
        },
        "id": "nNqGSVoSkSFj",
        "outputId": "a4124a0c-786a-4899-89bd-cad7a2d260a2"
      },
      "source": [
        "name_prompt = \"\\nWhat's your name? \"\n",
        "place_prompt = \"If you could visit one place in the world, where would it be? \"\n",
        "continue_prompt = \"\\nWould you like to let someone else respond? (yes/no) \"\n",
        "\n",
        "responses = {}\n",
        "\n",
        "while True:\n",
        "  \n",
        "    name = input(name_prompt)\n",
        "    place = input(place_prompt)\n",
        "\n",
        "\n",
        "    responses[name] = place\n",
        "\n",
        "    \n",
        "    repeat = input(continue_prompt)\n",
        "    if repeat != 'yes':\n",
        "        break\n",
        "\n",
        "\n",
        "print(\"\\n--- Results ---\")\n",
        "for name, place in responses.items():\n",
        "    print(f\"{name.title()} would like to visit {place.title()}.\")"
      ],
      "execution_count": null,
      "outputs": [
        {
          "output_type": "stream",
          "name": "stdout",
          "text": [
            "\n",
            "What's your name? Sali\n",
            "If you could visit one place in the world, where would it be? Egypt\n",
            "\n",
            "Would you like to let someone else respond? (yes/no) yes\n",
            "\n",
            "What's your name? maria]\n",
            "If you could visit one place in the world, where would it be? lille\n",
            "\n",
            "Would you like to let someone else respond? (yes/no) no\n",
            "\n",
            "--- Results ---\n",
            "Sali would like to visit Egypt.\n",
            "Maria] would like to visit Lille.\n"
          ]
        }
      ]
    },
    {
      "cell_type": "markdown",
      "metadata": {
        "id": "fav3UU62k2tU"
      },
      "source": [
        ""
      ]
    }
  ]
}