{
  "nbformat": 4,
  "nbformat_minor": 0,
  "metadata": {
    "colab": {
      "name": "while_loop.ipynb",
      "provenance": [],
      "authorship_tag": "ABX9TyOLYf37loW/oFbeR88ztDjQ",
      "include_colab_link": true
    },
    "kernelspec": {
      "name": "python3",
      "display_name": "Python 3"
    },
    "language_info": {
      "name": "python"
    }
  },
  "cells": [
    {
      "cell_type": "markdown",
      "metadata": {
        "id": "view-in-github",
        "colab_type": "text"
      },
      "source": [
        "<a href=\"https://colab.research.google.com/github/salomeeja/salomeeja/blob/main/while_loop.ipynb\" target=\"_parent\"><img src=\"https://colab.research.google.com/assets/colab-badge.svg\" alt=\"Open In Colab\"/></a>"
      ]
    },
    {
      "cell_type": "code",
      "metadata": {
        "id": "oDOXWnBWwiQZ"
      },
      "source": [
        "car = 'bmw'"
      ],
      "execution_count": 3,
      "outputs": []
    },
    {
      "cell_type": "code",
      "metadata": {
        "colab": {
          "base_uri": "https://localhost:8080/"
        },
        "id": "QwCy6p8lwpmP",
        "outputId": "9634226e-7162-4c3c-86bd-055352c1213b"
      },
      "source": [
        "car == 'bmw'"
      ],
      "execution_count": 4,
      "outputs": [
        {
          "output_type": "execute_result",
          "data": {
            "text/plain": [
              "True"
            ]
          },
          "metadata": {},
          "execution_count": 4
        }
      ]
    },
    {
      "cell_type": "code",
      "metadata": {
        "id": "bMdRviXbws5m"
      },
      "source": [
        "car = 'audi'"
      ],
      "execution_count": 5,
      "outputs": []
    },
    {
      "cell_type": "code",
      "metadata": {
        "colab": {
          "base_uri": "https://localhost:8080/"
        },
        "id": "-FZVbm2Sw15l",
        "outputId": "7c84956c-349a-4874-b588-eb1ea7b5a8fd"
      },
      "source": [
        "car == 'bmw'"
      ],
      "execution_count": 6,
      "outputs": [
        {
          "output_type": "execute_result",
          "data": {
            "text/plain": [
              "False"
            ]
          },
          "metadata": {},
          "execution_count": 6
        }
      ]
    },
    {
      "cell_type": "code",
      "metadata": {
        "colab": {
          "base_uri": "https://localhost:8080/"
        },
        "id": "tATnOSGlw4qd",
        "outputId": "85f37d58-4c9e-44e2-a050-7d305b742ba5"
      },
      "source": [
        "car == 'audi'"
      ],
      "execution_count": 7,
      "outputs": [
        {
          "output_type": "execute_result",
          "data": {
            "text/plain": [
              "True"
            ]
          },
          "metadata": {},
          "execution_count": 7
        }
      ]
    },
    {
      "cell_type": "code",
      "metadata": {
        "id": "fqDXrPyxw7v6"
      },
      "source": [
        "#checking for inequality\n",
        "topping = 'mushrooms'"
      ],
      "execution_count": 8,
      "outputs": []
    },
    {
      "cell_type": "code",
      "metadata": {
        "colab": {
          "base_uri": "https://localhost:8080/"
        },
        "id": "hhzriPrkw7rI",
        "outputId": "b1ca7ea7-70a4-41ed-db40-50ce002e7b2d"
      },
      "source": [
        "topping != 'anchovis'"
      ],
      "execution_count": 9,
      "outputs": [
        {
          "output_type": "execute_result",
          "data": {
            "text/plain": [
              "True"
            ]
          },
          "metadata": {},
          "execution_count": 9
        }
      ]
    },
    {
      "cell_type": "code",
      "metadata": {
        "id": "AzO1zpxew7mN"
      },
      "source": [
        "#numerican comparison\n",
        "age = 18"
      ],
      "execution_count": 11,
      "outputs": []
    },
    {
      "cell_type": "code",
      "metadata": {
        "colab": {
          "base_uri": "https://localhost:8080/"
        },
        "id": "OWkBNIJTw7c7",
        "outputId": "07d5fca8-85e4-4d5e-997f-de870455f6c1"
      },
      "source": [
        "age == 18"
      ],
      "execution_count": 12,
      "outputs": [
        {
          "output_type": "execute_result",
          "data": {
            "text/plain": [
              "True"
            ]
          },
          "metadata": {},
          "execution_count": 12
        }
      ]
    },
    {
      "cell_type": "code",
      "metadata": {
        "colab": {
          "base_uri": "https://localhost:8080/"
        },
        "id": "3Cb1sBUlw7XW",
        "outputId": "d788698c-e274-4323-b252-ff8e9c61587c"
      },
      "source": [
        "age != 18"
      ],
      "execution_count": 13,
      "outputs": [
        {
          "output_type": "execute_result",
          "data": {
            "text/plain": [
              "False"
            ]
          },
          "metadata": {},
          "execution_count": 13
        }
      ]
    },
    {
      "cell_type": "code",
      "metadata": {
        "id": "p8o72yl8w7Sb"
      },
      "source": [
        "#comparison operators\n",
        "age = 19\n"
      ],
      "execution_count": 14,
      "outputs": []
    },
    {
      "cell_type": "code",
      "metadata": {
        "colab": {
          "base_uri": "https://localhost:8080/"
        },
        "id": "dygrkBIsw7NN",
        "outputId": "3116f7e9-50d1-41fe-e8a4-c67da943a683"
      },
      "source": [
        "age < 21"
      ],
      "execution_count": 15,
      "outputs": [
        {
          "output_type": "execute_result",
          "data": {
            "text/plain": [
              "True"
            ]
          },
          "metadata": {},
          "execution_count": 15
        }
      ]
    },
    {
      "cell_type": "code",
      "metadata": {
        "colab": {
          "base_uri": "https://localhost:8080/"
        },
        "id": "EVH2grlFw7Ib",
        "outputId": "2f4bc343-52f7-4994-851a-e001943feb6e"
      },
      "source": [
        "age <= 21"
      ],
      "execution_count": 16,
      "outputs": [
        {
          "output_type": "execute_result",
          "data": {
            "text/plain": [
              "True"
            ]
          },
          "metadata": {},
          "execution_count": 16
        }
      ]
    },
    {
      "cell_type": "code",
      "metadata": {
        "colab": {
          "base_uri": "https://localhost:8080/"
        },
        "id": "JWg1Clcjw60j",
        "outputId": "4b27e892-36d0-4a47-9d6e-6e6a63a48a9d"
      },
      "source": [
        "age >= 21"
      ],
      "execution_count": 17,
      "outputs": [
        {
          "output_type": "execute_result",
          "data": {
            "text/plain": [
              "False"
            ]
          },
          "metadata": {},
          "execution_count": 17
        }
      ]
    },
    {
      "cell_type": "code",
      "metadata": {
        "id": "Rc4VYNcGxrqn"
      },
      "source": [
        "age_0 = 22"
      ],
      "execution_count": 18,
      "outputs": []
    },
    {
      "cell_type": "code",
      "metadata": {
        "id": "5mMA1CK0xrSz"
      },
      "source": [
        "age_1 = 18"
      ],
      "execution_count": 19,
      "outputs": []
    },
    {
      "cell_type": "code",
      "metadata": {
        "colab": {
          "base_uri": "https://localhost:8080/"
        },
        "id": "3Yefb2psxrHx",
        "outputId": "d11b7aa7-8437-42d9-c03c-806cfb7a0df1"
      },
      "source": [
        "#using and\n",
        "age_0 >= 21 and age_1 >= 21"
      ],
      "execution_count": 25,
      "outputs": [
        {
          "output_type": "execute_result",
          "data": {
            "text/plain": [
              "False"
            ]
          },
          "metadata": {},
          "execution_count": 25
        }
      ]
    },
    {
      "cell_type": "code",
      "metadata": {
        "colab": {
          "base_uri": "https://localhost:8080/"
        },
        "id": "gKQLjlYlxq1X",
        "outputId": "76c47fa8-1e97-4e87-f61a-058c1d8a3c70"
      },
      "source": [
        "#using or\n",
        "age_0 >= 21 or age_1 >= 21"
      ],
      "execution_count": 26,
      "outputs": [
        {
          "output_type": "execute_result",
          "data": {
            "text/plain": [
              "True"
            ]
          },
          "metadata": {},
          "execution_count": 26
        }
      ]
    },
    {
      "cell_type": "code",
      "metadata": {
        "id": "ujjUjHfKygeK"
      },
      "source": [
        "#boolean values true and false\n",
        "\n",
        "game_active = True"
      ],
      "execution_count": 29,
      "outputs": []
    },
    {
      "cell_type": "code",
      "metadata": {
        "id": "4yhz_HPiywjP"
      },
      "source": [
        "can_edit = False"
      ],
      "execution_count": 28,
      "outputs": []
    },
    {
      "cell_type": "code",
      "metadata": {
        "id": "cQVB-qPyy4OB"
      },
      "source": [
        "age = 19"
      ],
      "execution_count": 30,
      "outputs": []
    },
    {
      "cell_type": "code",
      "metadata": {
        "colab": {
          "base_uri": "https://localhost:8080/"
        },
        "id": "_9b2AQTHy-Tj",
        "outputId": "522ca15f-0b3d-4904-9864-76ea22d97ede"
      },
      "source": [
        "if age >= 18:\n",
        "  print(\"You're old enough to vote!\")"
      ],
      "execution_count": 31,
      "outputs": [
        {
          "output_type": "stream",
          "name": "stdout",
          "text": [
            "You're old enough to vote!\n"
          ]
        }
      ]
    },
    {
      "cell_type": "code",
      "metadata": {
        "id": "KEpGcatFzLtC"
      },
      "source": [
        "#if-else statement\n",
        "age = 17"
      ],
      "execution_count": 32,
      "outputs": []
    },
    {
      "cell_type": "code",
      "metadata": {
        "colab": {
          "base_uri": "https://localhost:8080/"
        },
        "id": "6q978E3xzQCG",
        "outputId": "bad3d716-e1b6-4141-99a9-590c6e1841b0"
      },
      "source": [
        "if age >= 18:\n",
        "  print('You are old enough to vote!')\n",
        "else: \n",
        "  print('wait few years to vote!')"
      ],
      "execution_count": 34,
      "outputs": [
        {
          "output_type": "stream",
          "name": "stdout",
          "text": [
            "wait few years to vote!\n"
          ]
        }
      ]
    },
    {
      "cell_type": "code",
      "metadata": {
        "id": "0gQ0GyjOzi45"
      },
      "source": [
        "#if-elif-else\n",
        "\n",
        "age = 12"
      ],
      "execution_count": 35,
      "outputs": []
    },
    {
      "cell_type": "code",
      "metadata": {
        "colab": {
          "base_uri": "https://localhost:8080/"
        },
        "id": "lI0-iCw-zi0P",
        "outputId": "eb6994eb-0eef-414d-9df9-995633706fdc"
      },
      "source": [
        "if age < 12:\n",
        "  price = 0 \n",
        "elif age < 18:\n",
        "  price = 5\n",
        "else:\n",
        "  price = 10\n",
        "print(type(price))\n",
        "print('Your cost is $' +str(price) + '.')"
      ],
      "execution_count": 39,
      "outputs": [
        {
          "output_type": "stream",
          "name": "stdout",
          "text": [
            "<class 'int'>\n",
            "Your cost is $5.\n"
          ]
        }
      ]
    },
    {
      "cell_type": "code",
      "metadata": {
        "colab": {
          "base_uri": "https://localhost:8080/"
        },
        "id": "Q-xTgnRVzivo",
        "outputId": "fe33c51e-bf86-4f78-cf62-f437a2dcd94d"
      },
      "source": [
        "price = str(price)\n",
        "print('Your cost is $' + price + '.')"
      ],
      "execution_count": 40,
      "outputs": [
        {
          "output_type": "stream",
          "name": "stdout",
          "text": [
            "Your cost is $5.\n"
          ]
        }
      ]
    },
    {
      "cell_type": "code",
      "metadata": {
        "id": "qZzQ0EKezirM"
      },
      "source": [
        "#conditional test with list\n",
        "players = ['al', 'bea', 'cyn', 'dale']\n"
      ],
      "execution_count": 41,
      "outputs": []
    },
    {
      "cell_type": "code",
      "metadata": {
        "colab": {
          "base_uri": "https://localhost:8080/"
        },
        "id": "6APvEinqzimb",
        "outputId": "05cfdbd6-99d4-413e-edfa-d3859c70ca66"
      },
      "source": [
        "'al' in players"
      ],
      "execution_count": 42,
      "outputs": [
        {
          "output_type": "execute_result",
          "data": {
            "text/plain": [
              "True"
            ]
          },
          "metadata": {},
          "execution_count": 42
        }
      ]
    },
    {
      "cell_type": "code",
      "metadata": {
        "colab": {
          "base_uri": "https://localhost:8080/"
        },
        "id": "5JB6xgGSzihU",
        "outputId": "2eb8a49f-b284-4af1-ad73-89e82f4d835e"
      },
      "source": [
        "'eric' in players"
      ],
      "execution_count": 43,
      "outputs": [
        {
          "output_type": "execute_result",
          "data": {
            "text/plain": [
              "False"
            ]
          },
          "metadata": {},
          "execution_count": 43
        }
      ]
    },
    {
      "cell_type": "code",
      "metadata": {
        "id": "KuSmhYM2zicc"
      },
      "source": [
        "banned_users = ['ann', 'chad', 'dee']"
      ],
      "execution_count": 44,
      "outputs": []
    },
    {
      "cell_type": "code",
      "metadata": {
        "id": "PaQ0bpk2ziWp"
      },
      "source": [
        "user = 'erin'"
      ],
      "execution_count": 45,
      "outputs": []
    },
    {
      "cell_type": "code",
      "metadata": {
        "colab": {
          "base_uri": "https://localhost:8080/"
        },
        "id": "Rl8lAJvgziR4",
        "outputId": "1a7c7794-af55-49e7-fb48-838275919d5d"
      },
      "source": [
        "if user not in banned_users:\n",
        "  print('you can play')"
      ],
      "execution_count": 46,
      "outputs": [
        {
          "output_type": "stream",
          "name": "stdout",
          "text": [
            "you can play\n"
          ]
        }
      ]
    },
    {
      "cell_type": "code",
      "metadata": {
        "id": "h87vbSiUziNL"
      },
      "source": [
        "#checking if a list is empty\n",
        "players = []"
      ],
      "execution_count": 47,
      "outputs": []
    },
    {
      "cell_type": "code",
      "metadata": {
        "colab": {
          "base_uri": "https://localhost:8080/"
        },
        "id": "JmC2kVMEziII",
        "outputId": "ae5ff08c-0d04-4830-bc35-6593b2ff63e6"
      },
      "source": [
        "type(players)"
      ],
      "execution_count": 48,
      "outputs": [
        {
          "output_type": "execute_result",
          "data": {
            "text/plain": [
              "list"
            ]
          },
          "metadata": {},
          "execution_count": 48
        }
      ]
    },
    {
      "cell_type": "code",
      "metadata": {
        "id": "EYdiKpTsziBj"
      },
      "source": [
        "players = []\n",
        "if players:\n",
        "  for player in players:\n",
        "    print('player:' + player.title())\n",
        "  else:\n",
        "    print('we have no players yet.')"
      ],
      "execution_count": 53,
      "outputs": []
    },
    {
      "cell_type": "code",
      "metadata": {
        "colab": {
          "base_uri": "https://localhost:8080/"
        },
        "id": "MW7ab3Tgzh9A",
        "outputId": "dbcfe551-c216-45f3-a55d-7ac105b264b5"
      },
      "source": [
        "#accepting input\n",
        "\n",
        "name = input('what is your name? ')\n"
      ],
      "execution_count": 55,
      "outputs": [
        {
          "name": "stdout",
          "output_type": "stream",
          "text": [
            "what is your name? Giorgi\n"
          ]
        }
      ]
    },
    {
      "cell_type": "code",
      "metadata": {
        "colab": {
          "base_uri": "https://localhost:8080/"
        },
        "id": "JOr0paMwzh4i",
        "outputId": "8ec44354-bf67-4454-b138-6fd2c935bb6f"
      },
      "source": [
        "print(name)"
      ],
      "execution_count": 56,
      "outputs": [
        {
          "output_type": "stream",
          "name": "stdout",
          "text": [
            "Giorgi\n"
          ]
        }
      ]
    },
    {
      "cell_type": "code",
      "metadata": {
        "colab": {
          "base_uri": "https://localhost:8080/"
        },
        "id": "PDSJeA_XzhzT",
        "outputId": "59953f64-9994-492c-be5b-d4251b781c1a"
      },
      "source": [
        "print(\"Hello, \" + name.title() + '.')"
      ],
      "execution_count": 57,
      "outputs": [
        {
          "output_type": "stream",
          "name": "stdout",
          "text": [
            "Hello, Giorgi.\n"
          ]
        }
      ]
    },
    {
      "cell_type": "code",
      "metadata": {
        "colab": {
          "base_uri": "https://localhost:8080/"
        },
        "id": "YqvJpTLMzhps",
        "outputId": "b973abb5-bdd3-4efc-98ee-9c51ffa9bace"
      },
      "source": [
        "age = input('How old are you? >>>> ')"
      ],
      "execution_count": 63,
      "outputs": [
        {
          "name": "stdout",
          "output_type": "stream",
          "text": [
            "How old are you? >>>> 37\n"
          ]
        }
      ]
    },
    {
      "cell_type": "code",
      "metadata": {
        "id": "oRy2Yo7jzhlO"
      },
      "source": [
        "age = int(age)"
      ],
      "execution_count": 64,
      "outputs": []
    },
    {
      "cell_type": "code",
      "metadata": {
        "colab": {
          "base_uri": "https://localhost:8080/"
        },
        "id": "3ZgWsMXuzhgt",
        "outputId": "1a6ee8d0-0760-43f4-e0da-f174ea0ae44b"
      },
      "source": [
        "type(age)"
      ],
      "execution_count": 65,
      "outputs": [
        {
          "output_type": "execute_result",
          "data": {
            "text/plain": [
              "int"
            ]
          },
          "metadata": {},
          "execution_count": 65
        }
      ]
    },
    {
      "cell_type": "code",
      "metadata": {
        "colab": {
          "base_uri": "https://localhost:8080/"
        },
        "id": "Xkev1heazg7b",
        "outputId": "dea939b4-f406-442d-80d4-1bc89f0ed549"
      },
      "source": [
        "if age >= 18:\n",
        "  print('\\nYou are old enough to vote!')\n",
        "else:\n",
        "  print('\\nYou cannot vote yet!')"
      ],
      "execution_count": 66,
      "outputs": [
        {
          "output_type": "stream",
          "name": "stdout",
          "text": [
            "\n",
            "You are old enough to vote!\n"
          ]
        }
      ]
    },
    {
      "cell_type": "code",
      "metadata": {
        "colab": {
          "base_uri": "https://localhost:8080/"
        },
        "id": "V6fIw9xY4N6a",
        "outputId": "8cb89604-fc3f-4ad7-a37a-b4176b17c595"
      },
      "source": [
        "if age >= 12:\n",
        "  print('\\nYou are old enough to vote!')\n",
        "else:\n",
        "  print('\\nYou cannot vote yet!')"
      ],
      "execution_count": 68,
      "outputs": [
        {
          "output_type": "stream",
          "name": "stdout",
          "text": [
            "\n",
            "You are old enough to vote!\n"
          ]
        }
      ]
    },
    {
      "cell_type": "code",
      "metadata": {
        "id": "KLO5QrHr4RpF"
      },
      "source": [
        "#while loop\n",
        "#while loop repeats a block of code as long as a condition is True\n",
        "\n",
        "current_number = 1"
      ],
      "execution_count": 73,
      "outputs": []
    },
    {
      "cell_type": "code",
      "metadata": {
        "id": "qtkZtkSk7BXl"
      },
      "source": [
        "current_number =5\n",
        "current_number = current_number + 1\n",
        "current_number += 1"
      ],
      "execution_count": null,
      "outputs": []
    },
    {
      "cell_type": "code",
      "metadata": {
        "colab": {
          "base_uri": "https://localhost:8080/"
        },
        "id": "Z_ALjOS07Oi1",
        "outputId": "5d04c1ee-11be-422e-88da-d90e3610b8e5"
      },
      "source": [
        "promt ='\\nTell me something, and I\\'ll '\n",
        "promt += 'repeat it back to you'\n",
        "\n",
        "print(promt)"
      ],
      "execution_count": 77,
      "outputs": [
        {
          "output_type": "stream",
          "name": "stdout",
          "text": [
            "\n",
            "Tell me something, and I'll repeat it back to you\n"
          ]
        }
      ]
    },
    {
      "cell_type": "code",
      "metadata": {
        "colab": {
          "base_uri": "https://localhost:8080/"
        },
        "id": "UJD697VQ7xHY",
        "outputId": "d6a81965-dc40-4944-ea97-81e1b1b308bf"
      },
      "source": [
        "promt ='\\nTell me something, and I\\'ll '\n",
        "promt += 'repeat it back to you'\n",
        "promt += \"\\nEnter 'quit' to end the program. \"\n",
        "\n",
        "message = \"\"\n",
        "while message != 'quit':\n",
        "  message = input(promt)\n",
        "\n",
        "if message != 'quit':\n",
        "  print(message)\n"
      ],
      "execution_count": 80,
      "outputs": [
        {
          "name": "stdout",
          "output_type": "stream",
          "text": [
            "\n",
            "Tell me something, and I'll repeat it back to you\n",
            "Enter 'quit' to end the programhello\n",
            "\n",
            "Tell me something, and I'll repeat it back to you\n",
            "Enter 'quit' to end the program hello again\n",
            "\n",
            "Tell me something, and I'll repeat it back to you\n",
            "Enter 'quit' to end the program quit\n",
            "\n",
            "Tell me something, and I'll repeat it back to you\n",
            "Enter 'quit' to end the program'quit'\n",
            "\n",
            "Tell me something, and I'll repeat it back to you\n",
            "Enter 'quit' to end the programquit\n"
          ]
        }
      ]
    },
    {
      "cell_type": "code",
      "metadata": {
        "colab": {
          "base_uri": "https://localhost:8080/"
        },
        "id": "F6vTSrCx8d8U",
        "outputId": "7cb0eaab-290a-4901-d4f7-e6813efeaf74"
      },
      "source": [
        "#using a flag\n",
        "promt ='\\nTell me something, and I\\'ll '\n",
        "promt += 'repeat it back to you'\n",
        "promt += \"\\nEnter 'quit' to end the program. \"\n",
        "\n",
        "active = True\n",
        "while active :\n",
        "  message = input(promt)\n",
        "\n",
        "  if message == 'quit':\n",
        "    active = False\n",
        "  else:\n",
        "    print(message)"
      ],
      "execution_count": 82,
      "outputs": [
        {
          "name": "stdout",
          "output_type": "stream",
          "text": [
            "\n",
            "Tell me something, and I'll repeat it back to you\n",
            "Enter 'quit' to end the program. Hello\n",
            "Hello\n",
            "\n",
            "Tell me something, and I'll repeat it back to you\n",
            "Enter 'quit' to end the program. sup?\n",
            "sup?\n",
            "\n",
            "Tell me something, and I'll repeat it back to you\n",
            "Enter 'quit' to end the program. quit\n"
          ]
        }
      ]
    },
    {
      "cell_type": "code",
      "metadata": {
        "colab": {
          "base_uri": "https://localhost:8080/"
        },
        "id": "MoiTZd-J9nIi",
        "outputId": "68b2071b-1109-4e4f-e80e-5ed52ec4a536"
      },
      "source": [
        "promt = \"\\nWhich cities have you visited?\"\n",
        "promt = \"\\nEnter 'quit' whne you are done. \"\n",
        "\n",
        "while True:\n",
        "  city = input(promt)\n",
        "\n",
        "  if city == 'quit':\n",
        "    break\n",
        "  else:\n",
        "    print('I have been to ' + city + '!')"
      ],
      "execution_count": 83,
      "outputs": [
        {
          "name": "stdout",
          "output_type": "stream",
          "text": [
            "\n",
            "Enter 'quit' whne you are done. Paris\n",
            "I have been to Paris!\n",
            "\n",
            "Enter 'quit' whne you are done. Lille\n",
            "I have been to Lille!\n",
            "\n",
            "Enter 'quit' whne you are done. Vukovar\n",
            "I have been to Vukovar!\n",
            "\n",
            "Enter 'quit' whne you are done. Zagreb\n",
            "I have been to Zagreb!\n",
            "\n",
            "Enter 'quit' whne you are done. quit\n"
          ]
        }
      ]
    },
    {
      "cell_type": "code",
      "metadata": {
        "colab": {
          "base_uri": "https://localhost:8080/"
        },
        "id": "CH2k5tU5-4XA",
        "outputId": "a07adaf5-a3d5-4219-a453-e378e804710e"
      },
      "source": [
        "banned_users = ['eve', 'fred', 'gary', 'helen']\n",
        "\n",
        "promt = \"\\nAdd a player to your team.\"\n",
        "promt += \"\\nEnter 'quit' when you're done.  \"\n",
        "\n",
        "players = []\n",
        "while True:\n",
        "  player = input(promt)\n",
        "  if player == 'quit':\n",
        "    break\n",
        "  elif player in banned_users:\n",
        "    print(player + ' is banned!')\n",
        "    continue \n",
        "  else:\n",
        "    players.append(player)\n",
        "\n",
        "\n",
        "print('\\nYour Team:')\n",
        "for player in players:\n",
        "  print(player)"
      ],
      "execution_count": 89,
      "outputs": [
        {
          "output_type": "stream",
          "name": "stdout",
          "text": [
            "\n",
            "Add a player to your team.\n",
            "Enter 'quit' when you're done.  gary\n",
            "gary is banned!\n",
            "\n",
            "Add a player to your team.\n",
            "Enter 'quit' when you're done.  harry\n",
            "\n",
            "Add a player to your team.\n",
            "Enter 'quit' when you're done.  anne\n",
            "\n",
            "Add a player to your team.\n",
            "Enter 'quit' when you're done.  quit\n",
            "\n",
            "Your Team:\n",
            "harry\n",
            "anne\n"
          ]
        }
      ]
    },
    {
      "cell_type": "code",
      "metadata": {
        "id": "MwsJXvs1AVZf"
      },
      "source": [
        ""
      ],
      "execution_count": null,
      "outputs": []
    }
  ]
}